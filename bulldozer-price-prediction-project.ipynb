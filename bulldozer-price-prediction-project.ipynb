{
 "cells": [
  {
   "cell_type": "markdown",
   "id": "2df6a549",
   "metadata": {},
   "source": [
    "# 🚜 Predicting the Sale Price of Bulldozers using Machine Learning\n",
    "\n",
    "An example machine learning project with the goal of predicting the sale price of bulldozers."
   ]
  },
  {
   "cell_type": "markdown",
   "id": "1430e617",
   "metadata": {},
   "source": [
    "## 1. Problem definition\n",
    "\n",
    "> How well can the future sale price of a bulldozer be predicted given its characteristics and previous examples of bulldozer sale prices?"
   ]
  },
  {
   "cell_type": "markdown",
   "id": "54e0542d",
   "metadata": {},
   "source": [
    "## 2. Data\n",
    "\n",
    "The data is downloaded from the Kaggle Bluebook for Bulldozers competition.\n",
    "\n",
    "Link: https://www.kaggle.com/c/bluebook-for-bulldozers/data\n",
    "\n",
    "The data is split into three parts:\n",
    "\n",
    "- Train.csv is the training set, which contains data through the end of 2011.\n",
    "- Valid.csv is the validation set, which contains data from January 1, 2012 - April 30, 2012 You make predictions on this set throughout the majority of the competition. Your score on this set is used to create the public leaderboard.\n",
    "- Test.csv is the test set, which won't be released until the last week of the competition. It contains data from May 1, 2012 - November 2012. Your score on the test set determines your final rank for the competition."
   ]
  },
  {
   "cell_type": "markdown",
   "id": "9ea0151d",
   "metadata": {},
   "source": [
    "## 3. Evaluation\n",
    "\n",
    "The targeted evaluation metric as specified by the this Kaggel competition is Root Mean Squared Log Error (RMSLE) between the actual and predicted auction prices.\n",
    "\n",
    "For more information on the evaluation of this project, check: https://www.kaggle.com/c/bluebook-for-bulldozers/overview/evaluation\n",
    "\n",
    "**Note:** The goal for most regresssion evaluation metrics is to minimize the error. In this project, the aim is to minimise RMSLE."
   ]
  },
  {
   "cell_type": "markdown",
   "id": "8232e49c",
   "metadata": {},
   "source": [
    "## 4. Features\n",
    "\n",
    "The data dictionaty for this dataset can be viewed here (provided by Kaggle): https://docs.google.com/spreadsheets/d/1j_a9HWyUMhnG9kteKmislr3o0ahu-wCfptIktvupVPA/edit?usp=sharing"
   ]
  },
  {
   "cell_type": "code",
   "execution_count": 1,
   "id": "a4d47f5f",
   "metadata": {},
   "outputs": [],
   "source": [
    "import numpy as np\n",
    "import pandas as pd\n",
    "import matplotlib.pyplot as plt\n",
    "import sklearn"
   ]
  },
  {
   "cell_type": "code",
   "execution_count": null,
   "id": "c5ab0199",
   "metadata": {},
   "outputs": [],
   "source": []
  }
 ],
 "metadata": {
  "kernelspec": {
   "display_name": "Python 3",
   "language": "python",
   "name": "python3"
  },
  "language_info": {
   "codemirror_mode": {
    "name": "ipython",
    "version": 3
   },
   "file_extension": ".py",
   "mimetype": "text/x-python",
   "name": "python",
   "nbconvert_exporter": "python",
   "pygments_lexer": "ipython3",
   "version": "3.9.5"
  }
 },
 "nbformat": 4,
 "nbformat_minor": 5
}
